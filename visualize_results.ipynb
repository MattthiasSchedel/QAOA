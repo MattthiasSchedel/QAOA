{
 "cells": [
  {
   "cell_type": "code",
   "execution_count": 1,
   "metadata": {},
   "outputs": [],
   "source": [
    "import pandas as pd\n",
    "import numpy as np\n",
    "import os"
   ]
  },
  {
   "cell_type": "code",
   "execution_count": 2,
   "metadata": {},
   "outputs": [],
   "source": [
    "# take all data from the results_maxcut_10/noisy folder\n",
    "# the folder contains 3000 files.\n",
    "\n",
    "# get all file names ending with .csv\n",
    "files = [f for f in os.listdir('results_maxcut_10/noisy') if f.endswith('.csv')]\n",
    "files[:5]\n",
    "files.sort()"
   ]
  },
  {
   "cell_type": "code",
   "execution_count": 3,
   "metadata": {},
   "outputs": [
    {
     "data": {
      "text/plain": [
       "3030"
      ]
     },
     "execution_count": 3,
     "metadata": {},
     "output_type": "execute_result"
    }
   ],
   "source": [
    "number_of_files = len(files)\n",
    "number_of_files"
   ]
  },
  {
   "cell_type": "code",
   "execution_count": 4,
   "metadata": {},
   "outputs": [
    {
     "data": {
      "text/plain": [
       "[]"
      ]
     },
     "execution_count": 4,
     "metadata": {},
     "output_type": "execute_result"
    }
   ],
   "source": [
    "max_layers = 30\n",
    "repetition = 100\n",
    "missing_files = []\n",
    "string = 'sbatch test_problem_noisy.sh \"maxcut_problem_10_20.txt\"'\n",
    "strings = []\n",
    "for layer in range(1, max_layers+1):\n",
    "    for i in range(0, repetition+1):\n",
    "        # check if the file exists\n",
    "        file_name = f'results_noisy_{layer}_{i}.csv'\n",
    "        if file_name not in files:\n",
    "            missing_files.append(file_name)\n",
    "            strings.append(f'{string} {layer} {i}')\n",
    "\n",
    "missing_files[:5]"
   ]
  },
  {
   "cell_type": "code",
   "execution_count": 5,
   "metadata": {},
   "outputs": [],
   "source": [
    "for string in strings:\n",
    "    print(string)"
   ]
  },
  {
   "cell_type": "code",
   "execution_count": 7,
   "metadata": {},
   "outputs": [],
   "source": [
    "desc = {'type': 'maxcut', 'graph': {'directed': False, 'multigraph': False, 'graph': {}, 'nodes': [{'id': 0}, {'id': 1}, {'id': 2}, {'id': 3}], 'links': [{'weight': 5, 'source': 0, 'target': 1}, {'weight': 5, 'source': 0, 'target': 2}, {'weight': 7, 'source': 0, 'target': 3}, {'weight': 4, 'source': 1, 'target': 2}, {'weight': 8, 'source': 1, 'target': 3}, {'weight': 8, 'source': 2, 'target': 3}]}, 'position': {0: [-0.2548148752963474, -0.8433541504801777], 1: [-0.947498195379204, 0.3810949273552925], 2: [0.9999999999999999, -0.20733107317232005], 3: [0.2023130706755527, 0.6695902962972065]}, 'solution': ([0, 1, 1, 0], 26.0)}"
   ]
  },
  {
   "cell_type": "code",
   "execution_count": 11,
   "metadata": {},
   "outputs": [
    {
     "data": {
      "text/plain": [
       "{'graph': <networkx.classes.graph.Graph at 0x150843250>,\n",
       " 'position': {0: [-0.2548148752963474, -0.8433541504801777],\n",
       "  1: [-0.947498195379204, 0.3810949273552925],\n",
       "  2: [0.9999999999999999, -0.20733107317232005],\n",
       "  3: [0.2023130706755527, 0.6695902962972065]}}"
      ]
     },
     "execution_count": 11,
     "metadata": {},
     "output_type": "execute_result"
    }
   ],
   "source": [
    "import QAOA_Tester as qtee\n",
    "problem = qtee.ProblemGenerator.from_dict(desc)\n",
    "problem.description"
   ]
  },
  {
   "cell_type": "code",
   "execution_count": 20,
   "metadata": {},
   "outputs": [
    {
     "data": {
      "text/plain": [
       "{'items': [{'weight': 1, 'profit': 8, 'color': 'yellow'},\n",
       "  {'weight': 3, 'profit': 1, 'color': 'orange'},\n",
       "  {'weight': 7, 'profit': 2, 'color': 'grey'},\n",
       "  {'weight': 3, 'profit': 9, 'color': 'red'},\n",
       "  {'weight': 2, 'profit': 8, 'color': 'blue'}],\n",
       " 'constraint': 8}"
      ]
     },
     "execution_count": 20,
     "metadata": {},
     "output_type": "execute_result"
    }
   ],
   "source": [
    "problemgenerator = qtee.ProblemGenerator()\n",
    "problemgenerator.generate_knapsack(5, (1, 10), (1, 10)).description"
   ]
  }
 ],
 "metadata": {
  "kernelspec": {
   "display_name": "base",
   "language": "python",
   "name": "python3"
  },
  "language_info": {
   "codemirror_mode": {
    "name": "ipython",
    "version": 3
   },
   "file_extension": ".py",
   "mimetype": "text/x-python",
   "name": "python",
   "nbconvert_exporter": "python",
   "pygments_lexer": "ipython3",
   "version": "3.10.14"
  }
 },
 "nbformat": 4,
 "nbformat_minor": 2
}
