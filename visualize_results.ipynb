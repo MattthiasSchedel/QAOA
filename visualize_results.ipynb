{
 "cells": [
  {
   "cell_type": "code",
   "execution_count": 21,
   "metadata": {},
   "outputs": [],
   "source": [
    "import pandas as pd\n",
    "import numpy as np\n",
    "import os"
   ]
  },
  {
   "cell_type": "code",
   "execution_count": 55,
   "metadata": {},
   "outputs": [],
   "source": [
    "# take all data from the results_maxcut_10/noisy folder\n",
    "# the folder contains 3000 files.\n",
    "problem_number = 9\n",
    "edge_number = problem_number * (problem_number - 1) // 2\n",
    "# get all file names ending with .csv\n",
    "files = [f for f in os.listdir(f'results_maxcut_{problem_number}/noisy') if f.endswith('.csv')]\n",
    "files[:5]\n",
    "files.sort()"
   ]
  },
  {
   "cell_type": "code",
   "execution_count": 56,
   "metadata": {},
   "outputs": [
    {
     "data": {
      "text/plain": [
       "3009"
      ]
     },
     "execution_count": 56,
     "metadata": {},
     "output_type": "execute_result"
    }
   ],
   "source": [
    "number_of_files = len(files)\n",
    "number_of_files"
   ]
  },
  {
   "cell_type": "code",
   "execution_count": 57,
   "metadata": {},
   "outputs": [
    {
     "data": {
      "text/plain": [
       "['results_noisy_6_28.csv',\n",
       " 'results_noisy_6_59.csv',\n",
       " 'results_noisy_7_33.csv',\n",
       " 'results_noisy_7_62.csv',\n",
       " 'results_noisy_9_14.csv']"
      ]
     },
     "execution_count": 57,
     "metadata": {},
     "output_type": "execute_result"
    }
   ],
   "source": [
    "max_layers = 30\n",
    "repetition = 100\n",
    "missing_files = []\n",
    "string = f'sbatch test_problem_noisy.sh \"maxcut_problem_{problem_number}_{edge_number}.txt\"'\n",
    "strings = []\n",
    "for layer in range(1, max_layers+1):\n",
    "    for i in range(0, repetition+1):\n",
    "        # check if the file exists\n",
    "        file_name = f'results_noisy_{layer}_{i}.csv'\n",
    "        if file_name not in files:\n",
    "            missing_files.append(file_name)\n",
    "            strings.append(f'{string} {layer} {i}')\n",
    "\n",
    "missing_files[:5]"
   ]
  },
  {
   "cell_type": "code",
   "execution_count": 58,
   "metadata": {},
   "outputs": [
    {
     "name": "stdout",
     "output_type": "stream",
     "text": [
      "sbatch test_problem_noisy.sh \"maxcut_problem_9_36.txt\" 6 28\n",
      "sbatch test_problem_noisy.sh \"maxcut_problem_9_36.txt\" 6 59\n",
      "sbatch test_problem_noisy.sh \"maxcut_problem_9_36.txt\" 7 33\n",
      "sbatch test_problem_noisy.sh \"maxcut_problem_9_36.txt\" 7 62\n",
      "sbatch test_problem_noisy.sh \"maxcut_problem_9_36.txt\" 9 14\n",
      "sbatch test_problem_noisy.sh \"maxcut_problem_9_36.txt\" 11 33\n",
      "sbatch test_problem_noisy.sh \"maxcut_problem_9_36.txt\" 11 49\n",
      "sbatch test_problem_noisy.sh \"maxcut_problem_9_36.txt\" 14 15\n",
      "sbatch test_problem_noisy.sh \"maxcut_problem_9_36.txt\" 14 30\n",
      "sbatch test_problem_noisy.sh \"maxcut_problem_9_36.txt\" 14 69\n",
      "sbatch test_problem_noisy.sh \"maxcut_problem_9_36.txt\" 14 91\n",
      "sbatch test_problem_noisy.sh \"maxcut_problem_9_36.txt\" 15 53\n",
      "sbatch test_problem_noisy.sh \"maxcut_problem_9_36.txt\" 15 72\n",
      "sbatch test_problem_noisy.sh \"maxcut_problem_9_36.txt\" 17 51\n",
      "sbatch test_problem_noisy.sh \"maxcut_problem_9_36.txt\" 19 90\n",
      "sbatch test_problem_noisy.sh \"maxcut_problem_9_36.txt\" 20 96\n",
      "sbatch test_problem_noisy.sh \"maxcut_problem_9_36.txt\" 21 23\n",
      "sbatch test_problem_noisy.sh \"maxcut_problem_9_36.txt\" 21 96\n",
      "sbatch test_problem_noisy.sh \"maxcut_problem_9_36.txt\" 22 41\n",
      "sbatch test_problem_noisy.sh \"maxcut_problem_9_36.txt\" 24 95\n",
      "sbatch test_problem_noisy.sh \"maxcut_problem_9_36.txt\" 29 96\n"
     ]
    }
   ],
   "source": [
    "for string in strings:\n",
    "    print(string)"
   ]
  },
  {
   "cell_type": "code",
   "execution_count": null,
   "metadata": {},
   "outputs": [],
   "source": [
    "sbatch test_problem_noisy.sh \"maxcut_problem_8_28.txt\" 13 100"
   ]
  },
  {
   "cell_type": "code",
   "execution_count": 7,
   "metadata": {},
   "outputs": [],
   "source": [
    "desc = {'type': 'maxcut', 'graph': {'directed': False, 'multigraph': False, 'graph': {}, 'nodes': [{'id': 0}, {'id': 1}, {'id': 2}, {'id': 3}], 'links': [{'weight': 5, 'source': 0, 'target': 1}, {'weight': 5, 'source': 0, 'target': 2}, {'weight': 7, 'source': 0, 'target': 3}, {'weight': 4, 'source': 1, 'target': 2}, {'weight': 8, 'source': 1, 'target': 3}, {'weight': 8, 'source': 2, 'target': 3}]}, 'position': {0: [-0.2548148752963474, -0.8433541504801777], 1: [-0.947498195379204, 0.3810949273552925], 2: [0.9999999999999999, -0.20733107317232005], 3: [0.2023130706755527, 0.6695902962972065]}, 'solution': ([0, 1, 1, 0], 26.0)}"
   ]
  },
  {
   "cell_type": "code",
   "execution_count": 11,
   "metadata": {},
   "outputs": [
    {
     "data": {
      "text/plain": [
       "{'graph': <networkx.classes.graph.Graph at 0x150843250>,\n",
       " 'position': {0: [-0.2548148752963474, -0.8433541504801777],\n",
       "  1: [-0.947498195379204, 0.3810949273552925],\n",
       "  2: [0.9999999999999999, -0.20733107317232005],\n",
       "  3: [0.2023130706755527, 0.6695902962972065]}}"
      ]
     },
     "execution_count": 11,
     "metadata": {},
     "output_type": "execute_result"
    }
   ],
   "source": [
    "import QAOA_Tester as qtee\n",
    "problem = qtee.ProblemGenerator.from_dict(desc)\n",
    "problem.description"
   ]
  },
  {
   "cell_type": "code",
   "execution_count": 20,
   "metadata": {},
   "outputs": [
    {
     "data": {
      "text/plain": [
       "{'items': [{'weight': 1, 'profit': 8, 'color': 'yellow'},\n",
       "  {'weight': 3, 'profit': 1, 'color': 'orange'},\n",
       "  {'weight': 7, 'profit': 2, 'color': 'grey'},\n",
       "  {'weight': 3, 'profit': 9, 'color': 'red'},\n",
       "  {'weight': 2, 'profit': 8, 'color': 'blue'}],\n",
       " 'constraint': 8}"
      ]
     },
     "execution_count": 20,
     "metadata": {},
     "output_type": "execute_result"
    }
   ],
   "source": [
    "problemgenerator = qtee.ProblemGenerator()\n",
    "problemgenerator.generate_knapsack(5, (1, 10), (1, 10)).description"
   ]
  }
 ],
 "metadata": {
  "kernelspec": {
   "display_name": "base",
   "language": "python",
   "name": "python3"
  },
  "language_info": {
   "codemirror_mode": {
    "name": "ipython",
    "version": 3
   },
   "file_extension": ".py",
   "mimetype": "text/x-python",
   "name": "python",
   "nbconvert_exporter": "python",
   "pygments_lexer": "ipython3",
   "version": "3.10.14"
  }
 },
 "nbformat": 4,
 "nbformat_minor": 2
}
